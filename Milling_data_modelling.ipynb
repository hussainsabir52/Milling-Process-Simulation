{
 "cells": [
  {
   "cell_type": "code",
   "execution_count": 1,
   "id": "ea461a90-759b-4dfa-ab84-db050039f289",
   "metadata": {},
   "outputs": [],
   "source": [
    "import numpy as np\n",
    "import pandas as pd\n",
    "import matplotlib.pyplot as plt\n",
    "import os.path\n",
    "from sklearn.model_selection import train_test_split\n",
    "from sklearn.multioutput import MultiOutputRegressor\n",
    "from sklearn.linear_model import LinearRegression\n",
    "from sklearn.metrics import mean_squared_error\n",
    "from sklearn import preprocessing"
   ]
  },
  {
   "cell_type": "code",
   "execution_count": 2,
   "id": "db0dada9-3f47-44fd-976e-a1c4a1a6c6a3",
   "metadata": {},
   "outputs": [],
   "source": [
    "filtered_data_dir=\"filtered_displacements\" \n",
    "raw_sensors_dir = \"raw_sensors\"\n",
    "raw_data_file = \"\"\"/Cluster_Sim_{0}.txt\"\"\"\n",
    "filtered_data_file = \"\"\"/Cluster_Sim_{0}_filtered.npz\"\"\""
   ]
  },
  {
   "cell_type": "code",
   "execution_count": 3,
   "id": "3c99d7ee-abb0-44f2-affd-fc52b9b78b74",
   "metadata": {},
   "outputs": [],
   "source": [
    "clustersim_lhs = pd.read_excel('clustersim_lhs.xlsx', sheet_name='Zuordnung_Messdaten')"
   ]
  },
  {
   "cell_type": "code",
   "execution_count": 4,
   "id": "64eea956-b62b-4849-ac02-9afdba8ae549",
   "metadata": {},
   "outputs": [],
   "source": [
    "def readAndCombineData(messDatei, n,fz,ae,R1,R2):\n",
    "    if(os.path.isfile(filtered_data_dir+filtered_data_file.format(messDatei)) and os.path.isfile(f'{raw_sensors_dir}/{raw_data_file.format(messDatei)}')):\n",
    "        data_filtered = np.load(filtered_data_dir+filtered_data_file.format(messDatei))\n",
    "        data_raw = np.loadtxt(f'{raw_sensors_dir}/{raw_data_file.format(messDatei)}', skiprows=8, usecols=[1, 2, 3, 4, 5, 6, 7])\n",
    "        X_df=pd.DataFrame({'Time':data_filtered[\"time\"], 'n':n, 'fz':fz, 'ae':ae, 'R1':R1, 'R2':R2,'Fx': data_raw[:,0],'Fy': data_raw[:,1], 'Fz': data_raw[:,2]})\n",
    "        Y_df=pd.DataFrame({'Dx':data_filtered[\"dx\"], 'Dy': data_filtered[\"dy\"]})\n",
    "        return X_df,Y_df\n",
    "\n",
    "def getData():\n",
    "    frames=[]\n",
    "    for i in range(len(clustersim_lhs)):\n",
    "        n=clustersim_lhs['n'][i]\n",
    "        fz=clustersim_lhs['fz'][i]\n",
    "        ae=clustersim_lhs['ae'][i]\n",
    "        R1=clustersim_lhs['R1'][i]\n",
    "        R2=clustersim_lhs['R2'][i]\n",
    "        Messdatei=clustersim_lhs['Messdatei'][i]\n",
    "        frames.append(readAndCombineData(Messdatei,n,fz,ae,R1,R2))\n",
    "\n",
    "    combined_data = pd.concat(frames)\n",
    "    return combined_data"
   ]
  },
  {
   "cell_type": "code",
   "execution_count": 5,
   "id": "b5c78a19-9340-4680-9844-97a7a46831e1",
   "metadata": {},
   "outputs": [],
   "source": [
    "X_df,Y_df = readAndCombineData('V0_1001',13499,0.05,7,7,17)"
   ]
  },
  {
   "cell_type": "code",
   "execution_count": 6,
   "id": "2cd119ac-d8de-4bdb-a357-467849add277",
   "metadata": {},
   "outputs": [
    {
     "data": {
      "text/html": [
       "<div>\n",
       "<style scoped>\n",
       "    .dataframe tbody tr th:only-of-type {\n",
       "        vertical-align: middle;\n",
       "    }\n",
       "\n",
       "    .dataframe tbody tr th {\n",
       "        vertical-align: top;\n",
       "    }\n",
       "\n",
       "    .dataframe thead th {\n",
       "        text-align: right;\n",
       "    }\n",
       "</style>\n",
       "<table border=\"1\" class=\"dataframe\">\n",
       "  <thead>\n",
       "    <tr style=\"text-align: right;\">\n",
       "      <th></th>\n",
       "      <th>Time</th>\n",
       "      <th>n</th>\n",
       "      <th>fz</th>\n",
       "      <th>ae</th>\n",
       "      <th>R1</th>\n",
       "      <th>R2</th>\n",
       "      <th>Fx</th>\n",
       "      <th>Fy</th>\n",
       "      <th>Fz</th>\n",
       "    </tr>\n",
       "  </thead>\n",
       "  <tbody>\n",
       "    <tr>\n",
       "      <th>0</th>\n",
       "      <td>0.00000</td>\n",
       "      <td>13499</td>\n",
       "      <td>0.05</td>\n",
       "      <td>7</td>\n",
       "      <td>7</td>\n",
       "      <td>17</td>\n",
       "      <td>-0.478649</td>\n",
       "      <td>-0.053215</td>\n",
       "      <td>0.367355</td>\n",
       "    </tr>\n",
       "    <tr>\n",
       "      <th>1</th>\n",
       "      <td>0.00001</td>\n",
       "      <td>13499</td>\n",
       "      <td>0.05</td>\n",
       "      <td>7</td>\n",
       "      <td>7</td>\n",
       "      <td>17</td>\n",
       "      <td>-0.505972</td>\n",
       "      <td>-0.083542</td>\n",
       "      <td>0.371647</td>\n",
       "    </tr>\n",
       "    <tr>\n",
       "      <th>2</th>\n",
       "      <td>0.00002</td>\n",
       "      <td>13499</td>\n",
       "      <td>0.05</td>\n",
       "      <td>7</td>\n",
       "      <td>7</td>\n",
       "      <td>17</td>\n",
       "      <td>-0.516701</td>\n",
       "      <td>-0.054645</td>\n",
       "      <td>0.492096</td>\n",
       "    </tr>\n",
       "    <tr>\n",
       "      <th>3</th>\n",
       "      <td>0.00003</td>\n",
       "      <td>13499</td>\n",
       "      <td>0.05</td>\n",
       "      <td>7</td>\n",
       "      <td>7</td>\n",
       "      <td>17</td>\n",
       "      <td>-0.548458</td>\n",
       "      <td>-0.050497</td>\n",
       "      <td>0.456905</td>\n",
       "    </tr>\n",
       "    <tr>\n",
       "      <th>4</th>\n",
       "      <td>0.00004</td>\n",
       "      <td>13499</td>\n",
       "      <td>0.05</td>\n",
       "      <td>7</td>\n",
       "      <td>7</td>\n",
       "      <td>17</td>\n",
       "      <td>-0.502682</td>\n",
       "      <td>-0.073385</td>\n",
       "      <td>0.356197</td>\n",
       "    </tr>\n",
       "  </tbody>\n",
       "</table>\n",
       "</div>"
      ],
      "text/plain": [
       "      Time      n    fz  ae  R1  R2        Fx        Fy        Fz\n",
       "0  0.00000  13499  0.05   7   7  17 -0.478649 -0.053215  0.367355\n",
       "1  0.00001  13499  0.05   7   7  17 -0.505972 -0.083542  0.371647\n",
       "2  0.00002  13499  0.05   7   7  17 -0.516701 -0.054645  0.492096\n",
       "3  0.00003  13499  0.05   7   7  17 -0.548458 -0.050497  0.456905\n",
       "4  0.00004  13499  0.05   7   7  17 -0.502682 -0.073385  0.356197"
      ]
     },
     "execution_count": 6,
     "metadata": {},
     "output_type": "execute_result"
    }
   ],
   "source": [
    "X_df.head()"
   ]
  },
  {
   "cell_type": "code",
   "execution_count": 7,
   "id": "b03684f7",
   "metadata": {},
   "outputs": [
    {
     "data": {
      "text/html": [
       "<div>\n",
       "<style scoped>\n",
       "    .dataframe tbody tr th:only-of-type {\n",
       "        vertical-align: middle;\n",
       "    }\n",
       "\n",
       "    .dataframe tbody tr th {\n",
       "        vertical-align: top;\n",
       "    }\n",
       "\n",
       "    .dataframe thead th {\n",
       "        text-align: right;\n",
       "    }\n",
       "</style>\n",
       "<table border=\"1\" class=\"dataframe\">\n",
       "  <thead>\n",
       "    <tr style=\"text-align: right;\">\n",
       "      <th></th>\n",
       "      <th>Dx</th>\n",
       "      <th>Dy</th>\n",
       "    </tr>\n",
       "  </thead>\n",
       "  <tbody>\n",
       "    <tr>\n",
       "      <th>0</th>\n",
       "      <td>9.177191e-07</td>\n",
       "      <td>-5.411851e-07</td>\n",
       "    </tr>\n",
       "    <tr>\n",
       "      <th>1</th>\n",
       "      <td>5.439900e-07</td>\n",
       "      <td>-9.584568e-07</td>\n",
       "    </tr>\n",
       "    <tr>\n",
       "      <th>2</th>\n",
       "      <td>-2.878134e-08</td>\n",
       "      <td>-1.477918e-06</td>\n",
       "    </tr>\n",
       "    <tr>\n",
       "      <th>3</th>\n",
       "      <td>-1.385935e-07</td>\n",
       "      <td>-1.711568e-06</td>\n",
       "    </tr>\n",
       "    <tr>\n",
       "      <th>4</th>\n",
       "      <td>4.465556e-07</td>\n",
       "      <td>-1.440406e-06</td>\n",
       "    </tr>\n",
       "  </tbody>\n",
       "</table>\n",
       "</div>"
      ],
      "text/plain": [
       "             Dx            Dy\n",
       "0  9.177191e-07 -5.411851e-07\n",
       "1  5.439900e-07 -9.584568e-07\n",
       "2 -2.878134e-08 -1.477918e-06\n",
       "3 -1.385935e-07 -1.711568e-06\n",
       "4  4.465556e-07 -1.440406e-06"
      ]
     },
     "execution_count": 7,
     "metadata": {},
     "output_type": "execute_result"
    }
   ],
   "source": [
    "Y_df.head()"
   ]
  },
  {
   "cell_type": "code",
   "execution_count": 12,
   "id": "955fb36c-a194-456f-bf96-71394ed7cba9",
   "metadata": {},
   "outputs": [],
   "source": [
    "X_train, X_test, Y_train, Y_test = train_test_split(X_df, Y_df, test_size=0.2, random_state=42)"
   ]
  },
  {
   "cell_type": "code",
   "execution_count": null,
   "id": "1a636951-302c-4ed0-84d8-30407ecc449b",
   "metadata": {},
   "outputs": [],
   "source": [
    "base_model = LinearRegression()\n",
    "multi_output_model = MultiOutputRegressor(base_model)\n",
    "multi_output_model.fit(X_train, Y_train)"
   ]
  },
  {
   "cell_type": "code",
   "execution_count": 14,
   "id": "875c978c-2fd2-454c-82fa-96fb4f61fc24",
   "metadata": {},
   "outputs": [],
   "source": [
    "Y_pred = multi_output_model.predict(X_test)\n",
    "Y_pred_df = pd.DataFrame(Y_pred, columns=['Y1_Pred', 'Y2_Pred'])"
   ]
  },
  {
   "cell_type": "code",
   "execution_count": null,
   "id": "e8ce898e-27b7-445c-893a-2bc67d5308c7",
   "metadata": {},
   "outputs": [],
   "source": [
    "comparison = pd.concat([Y_test.reset_index(drop=True), Y_pred_df], axis=1)\n",
    "print(comparison.head())\n",
    "comparison.to_excel(\"predictions.xlsx\")"
   ]
  },
  {
   "cell_type": "code",
   "execution_count": null,
   "id": "fb9a3741-9cc9-4047-9fee-5d5bf936299e",
   "metadata": {},
   "outputs": [],
   "source": [
    "mse_Y1 = mean_squared_error(Y_test['Dx'], Y_pred[:, 0])\n",
    "mse_Y2 = mean_squared_error(Y_test['Dy'], Y_pred[:, 1])\n",
    "\n",
    "print(f'MSE for Y1: {mse_Y1}')\n",
    "print(f'MSE for Y2: {mse_Y2}')"
   ]
  },
  {
   "cell_type": "markdown",
   "id": "08093211",
   "metadata": {},
   "source": [
    "### CNN Approach"
   ]
  },
  {
   "cell_type": "code",
   "execution_count": 10,
   "id": "45afff99",
   "metadata": {},
   "outputs": [
    {
     "data": {
      "text/plain": [
       "1183744"
      ]
     },
     "execution_count": 10,
     "metadata": {},
     "output_type": "execute_result"
    }
   ],
   "source": [
    "data_array= np.array(X_df.get([\"Fx\",\"Fy\",\"Fz\"]))\n",
    "len(data_array)"
   ]
  },
  {
   "cell_type": "code",
   "execution_count": 11,
   "id": "c8d44509",
   "metadata": {},
   "outputs": [
    {
     "data": {
      "text/plain": [
       "array([[0.49772308, 0.66256973, 0.76986487],\n",
       "       [0.49765046, 0.66245795, 0.76991494],\n",
       "       [0.49762194, 0.66256445, 0.7713201 ],\n",
       "       ...,\n",
       "       [0.49818239, 0.66349026, 0.77520513],\n",
       "       [0.49821205, 0.66350608, 0.77569911],\n",
       "       [0.49823486, 0.66370484, 0.77586932]])"
      ]
     },
     "execution_count": 11,
     "metadata": {},
     "output_type": "execute_result"
    }
   ],
   "source": [
    "min_max_scaler = preprocessing.MinMaxScaler()\n",
    "data_normalized = min_max_scaler.fit_transform(data_array)\n",
    "data_normalized"
   ]
  },
  {
   "cell_type": "code",
   "execution_count": 16,
   "id": "c4825307",
   "metadata": {},
   "outputs": [],
   "source": [
    "data= pd.concat([pd.DataFrame(data_normalized,columns=[\"Fx\",\"Fy\",\"Fz\"]),Y_df[\"Dx\"]], axis=1)"
   ]
  },
  {
   "cell_type": "code",
   "execution_count": 17,
   "id": "65512785",
   "metadata": {},
   "outputs": [],
   "source": [
    "def split_sequences(sequences, n_steps):\n",
    "    X, y = list(), list()\n",
    "    for i in range(len(sequences)):\n",
    "        # find the end of this pattern\n",
    "        end_ix = i + n_steps\n",
    "        # check if we are beyond the dataset\n",
    "        if end_ix > len(sequences):\n",
    "            break\n",
    "        # gather input and output parts of the pattern\n",
    "        seq_x, seq_y = sequences[i:end_ix, :-1], sequences[end_ix-1, -1]\n",
    "        X.append(seq_x)\n",
    "        y.append(seq_y)\n",
    "    return np.array(X), np.array(y)"
   ]
  },
  {
   "cell_type": "code",
   "execution_count": 19,
   "id": "a454ddd8",
   "metadata": {},
   "outputs": [],
   "source": [
    "X,y = split_sequences(np.array(data),3)"
   ]
  },
  {
   "cell_type": "code",
   "execution_count": 20,
   "id": "5e7ee2c0",
   "metadata": {},
   "outputs": [
    {
     "name": "stdout",
     "output_type": "stream",
     "text": [
      "(1183742, 3, 3) (1183742,)\n"
     ]
    }
   ],
   "source": [
    "print(X.shape, y.shape)\n",
    "# summarize the data\n",
    "# for i in range(len(X)):\n",
    "# \tprint(X[i], y[i])"
   ]
  },
  {
   "cell_type": "code",
   "execution_count": 21,
   "id": "207125ce",
   "metadata": {},
   "outputs": [],
   "source": [
    "from keras.models import Sequential\n",
    "from keras.layers import Conv1D, Dense, GlobalAveragePooling1D, MaxPooling1D, Flatten\n",
    "from sklearn.model_selection import train_test_split"
   ]
  },
  {
   "cell_type": "code",
   "execution_count": 22,
   "id": "4869e60f",
   "metadata": {},
   "outputs": [],
   "source": [
    "X_train, X_test, y_train, y_test = train_test_split(X, y, test_size=0.3, random_state=42)"
   ]
  },
  {
   "cell_type": "code",
   "execution_count": 23,
   "id": "b1134352",
   "metadata": {},
   "outputs": [
    {
     "name": "stderr",
     "output_type": "stream",
     "text": [
      "c:\\Users\\hussa\\AppData\\Local\\Programs\\Python\\Python312\\Lib\\site-packages\\keras\\src\\layers\\convolutional\\base_conv.py:107: UserWarning: Do not pass an `input_shape`/`input_dim` argument to a layer. When using Sequential models, prefer using an `Input(shape)` object as the first layer in the model instead.\n",
      "  super().__init__(activity_regularizer=activity_regularizer, **kwargs)\n"
     ]
    }
   ],
   "source": [
    "n_steps=3\n",
    "n_features = 3\n",
    "# define model\n",
    "model = Sequential()\n",
    "model.add(Conv1D(filters=64, kernel_size=2, activation='relu', input_shape=(n_steps, n_features)))\n",
    "model.add(MaxPooling1D(pool_size=2))\n",
    "model.add(Flatten())\n",
    "model.add(Dense(50))\n",
    "model.add(Dense(1))\n",
    "model.compile(optimizer='adam', loss='mse')"
   ]
  },
  {
   "cell_type": "code",
   "execution_count": 24,
   "id": "8240e0e3",
   "metadata": {},
   "outputs": [
    {
     "data": {
      "text/plain": [
       "<keras.src.callbacks.history.History at 0x15ee6401610>"
      ]
     },
     "execution_count": 24,
     "metadata": {},
     "output_type": "execute_result"
    }
   ],
   "source": [
    "model.fit(X_train, y_train, epochs=100, verbose=0)"
   ]
  },
  {
   "cell_type": "code",
   "execution_count": 25,
   "id": "6a22eec9",
   "metadata": {},
   "outputs": [
    {
     "data": {
      "text/plain": [
       "array([[[0.4987204 , 0.66326777, 0.77184411],\n",
       "        [0.49876451, 0.66306374, 0.77158044],\n",
       "        [0.49864207, 0.66310117, 0.77199097]],\n",
       "\n",
       "       [[0.49968084, 0.66372224, 0.77280535],\n",
       "        [0.4996219 , 0.66397742, 0.77370319],\n",
       "        [0.49960251, 0.66397373, 0.7728888 ]],\n",
       "\n",
       "       [[0.4978151 , 0.66383876, 0.77692737],\n",
       "        [0.49773031, 0.66389992, 0.77783186],\n",
       "        [0.49761852, 0.66364843, 0.77782859]],\n",
       "\n",
       "       ...,\n",
       "\n",
       "       [[0.49857326, 0.66403594, 0.77225465],\n",
       "        [0.49852459, 0.66395739, 0.77203102],\n",
       "        [0.49838162, 0.66368375, 0.77207441]],\n",
       "\n",
       "       [[0.49846793, 0.66308219, 0.76772878],\n",
       "        [0.49855577, 0.66328992, 0.768166  ],\n",
       "        [0.4985877 , 0.6633089 , 0.76779886]],\n",
       "\n",
       "       [[0.49700333, 0.66254758, 0.77533197],\n",
       "        [0.4971999 , 0.6629546 , 0.77662698],\n",
       "        [0.49702081, 0.66285337, 0.7757158 ]]])"
      ]
     },
     "execution_count": 25,
     "metadata": {},
     "output_type": "execute_result"
    }
   ],
   "source": [
    "X_test"
   ]
  },
  {
   "cell_type": "code",
   "execution_count": 26,
   "id": "83727802",
   "metadata": {},
   "outputs": [],
   "source": [
    "yhat = model.predict(X_test, verbose=0) "
   ]
  },
  {
   "cell_type": "code",
   "execution_count": 27,
   "id": "9dd5c829",
   "metadata": {},
   "outputs": [
    {
     "name": "stdout",
     "output_type": "stream",
     "text": [
      "[[-6.9355774e-06]\n",
      " [-6.9355774e-06]\n",
      " [-6.9355774e-06]\n",
      " ...\n",
      " [-6.9355774e-06]\n",
      " [-6.9355774e-06]\n",
      " [-6.9355774e-06]]\n"
     ]
    }
   ],
   "source": [
    "print(yhat)"
   ]
  },
  {
   "cell_type": "code",
   "execution_count": 101,
   "id": "9c433091",
   "metadata": {},
   "outputs": [],
   "source": [
    "test_vs_pred = pd.DataFrame({'actual':y_test, 'predicted':yhat.flatten()})"
   ]
  },
  {
   "cell_type": "code",
   "execution_count": 105,
   "id": "7a12ad92",
   "metadata": {},
   "outputs": [],
   "source": [
    "test_vs_pred.to_excel(\"predictions.xlsx\");"
   ]
  },
  {
   "cell_type": "code",
   "execution_count": null,
   "id": "0f0ca178",
   "metadata": {},
   "outputs": [],
   "source": [
    "test_vs_pred.plot(figsize=(12,5))"
   ]
  }
 ],
 "metadata": {
  "kernelspec": {
   "display_name": "Python 3 (ipykernel)",
   "language": "python",
   "name": "python3"
  },
  "language_info": {
   "codemirror_mode": {
    "name": "ipython",
    "version": 3
   },
   "file_extension": ".py",
   "mimetype": "text/x-python",
   "name": "python",
   "nbconvert_exporter": "python",
   "pygments_lexer": "ipython3",
   "version": "3.12.5"
  }
 },
 "nbformat": 4,
 "nbformat_minor": 5
}
